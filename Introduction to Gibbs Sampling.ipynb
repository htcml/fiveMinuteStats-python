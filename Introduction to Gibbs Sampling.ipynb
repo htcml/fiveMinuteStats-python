{
 "cells": [
  {
   "cell_type": "code",
   "execution_count": 8,
   "metadata": {},
   "outputs": [],
   "source": [
    "import numpy as np\n",
    "import pandas as pd"
   ]
  },
  {
   "cell_type": "code",
   "execution_count": 6,
   "metadata": {},
   "outputs": [],
   "source": [
    "def sample_XgivenY(Y):\n",
    "    if Y == 0:\n",
    "        return np.random.binomial(1, 0.2)\n",
    "    else:\n",
    "        return np.random.binomial(1, 0.6)\n",
    "\n",
    "def sample_YgivenX(X):\n",
    "    if X == 0:\n",
    "        return np.random.binomial(1, 1/7)\n",
    "    else:\n",
    "        return np.random.binomial(1, 0.5)"
   ]
  },
  {
   "cell_type": "code",
   "execution_count": 17,
   "metadata": {},
   "outputs": [
    {
     "data": {
      "text/plain": [
       "X    Y  \n",
       "0.0  0.0    0.60049\n",
       "     1.0    0.10104\n",
       "1.0  0.0    0.14997\n",
       "     1.0    0.14850\n",
       "dtype: float64"
      ]
     },
     "execution_count": 17,
     "metadata": {},
     "output_type": "execute_result"
    }
   ],
   "source": [
    "np.random.seed(100)\n",
    "niter = 100000\n",
    "X = np.zeros(niter)\n",
    "Y = np.zeros(niter)\n",
    "\n",
    "X[0] = 1\n",
    "Y[0] = 1\n",
    "for i in range(1,niter):\n",
    "    X[i] = sample_XgivenY(Y[i-1])\n",
    "    Y[i] = sample_YgivenX(X[i])\n",
    "    \n",
    "res = pd.DataFrame({'X':X, 'Y':Y})\n",
    "res.groupby(['X','Y']).size()/niter"
   ]
  }
 ],
 "metadata": {
  "kernelspec": {
   "display_name": "Python 3",
   "language": "python",
   "name": "python3"
  },
  "language_info": {
   "codemirror_mode": {
    "name": "ipython",
    "version": 3
   },
   "file_extension": ".py",
   "mimetype": "text/x-python",
   "name": "python",
   "nbconvert_exporter": "python",
   "pygments_lexer": "ipython3",
   "version": "3.7.6"
  }
 },
 "nbformat": 4,
 "nbformat_minor": 4
}
